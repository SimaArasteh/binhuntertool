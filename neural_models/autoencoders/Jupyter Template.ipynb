{
 "cells": [
  {
   "cell_type": "code",
   "execution_count": null,
   "metadata": {},
   "outputs": [],
   "source": [
    "import sys\n",
    "sys.path.append('/nas/home/shushan/binary-reconstruction/neural_models/autoencoders')\n",
    "sys.path.append('/nas/home/shushan/binary-reconstruction/neural_models/autoencoders/models')"
   ]
  },
  {
   "cell_type": "code",
   "execution_count": null,
   "metadata": {},
   "outputs": [],
   "source": [
    "from args import Args\n",
    "args = Args()"
   ]
  },
  {
   "cell_type": "code",
   "execution_count": null,
   "metadata": {},
   "outputs": [],
   "source": [
    "### checkout clean git version"
   ]
  },
  {
   "cell_type": "code",
   "execution_count": null,
   "metadata": {},
   "outputs": [],
   "source": [
    "### change args as necessary for the experiment\n",
    "# set writer names/files\n",
    "# redirect stdout to a file\n",
    "# redirect stderr to a file"
   ]
  },
  {
   "cell_type": "code",
   "execution_count": null,
   "metadata": {},
   "outputs": [],
   "source": [
    "# different_setups\n",
    "experiment_setups = [\n",
    "    {\"writer_name\":\"\", \n",
    "    \"writer_comment\":\"\", \n",
    "    \"encoder_layer_dims\":[], \n",
    "    \"encoder_nout\":0,\n",
    "    \"predictor_layer_dims\":[], \n",
    "    \"predictor_nfeat\":0, \n",
    "    \"print_every\":0, \n",
    "    \"report_metrics\":[\"\", \"\"]}\n",
    "]"
   ]
  },
  {
   "cell_type": "code",
   "execution_count": null,
   "metadata": {},
   "outputs": [],
   "source": [
    "from edge_prediction_experiment import main"
   ]
  },
  {
   "cell_type": "code",
   "execution_count": null,
   "metadata": {},
   "outputs": [],
   "source": [
    "# copy from experiment setups to args\n",
    "for current_setup in experiment_setups:\n",
    "    for name, value in current_setup.items():\n",
    "        setattr(args, name, value)\n",
    "    main(args)"
   ]
  },
  {
   "cell_type": "code",
   "execution_count": null,
   "metadata": {},
   "outputs": [],
   "source": []
  }
 ],
 "metadata": {
  "kernelspec": {
   "display_name": "Python 3",
   "language": "python",
   "name": "python3"
  },
  "language_info": {
   "codemirror_mode": {
    "name": "ipython",
    "version": 3
   },
   "file_extension": ".py",
   "mimetype": "text/x-python",
   "name": "python",
   "nbconvert_exporter": "python",
   "pygments_lexer": "ipython3",
   "version": "3.7.6"
  }
 },
 "nbformat": 4,
 "nbformat_minor": 4
}
